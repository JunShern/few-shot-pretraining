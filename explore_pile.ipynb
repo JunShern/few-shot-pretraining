{
 "cells": [
  {
   "cell_type": "code",
   "execution_count": 2,
   "source": [
    "import numpy as np\n",
    "import lm_dataformat as lmd"
   ],
   "outputs": [],
   "metadata": {}
  },
  {
   "cell_type": "code",
   "execution_count": null,
   "source": [
    "rdr = lmd.Reader('/data/the-eye.eu/public/AI/pile/train/00.jsonl.zst')\n",
    "\n",
    "def get_item(idx):\n",
    "    for i, doc in enumerate(rdr.stream_data()):\n",
    "        if i == idx:\n",
    "            return doc\n",
    "\n",
    "get_item(1000)"
   ],
   "outputs": [],
   "metadata": {}
  },
  {
   "cell_type": "code",
   "execution_count": null,
   "source": [],
   "outputs": [],
   "metadata": {}
  }
 ],
 "metadata": {
  "orig_nbformat": 4,
  "kernelspec": {
   "name": "conda_pile",
   "display_name": "Environment (conda_pile)",
   "language": "python"
  },
  "language_info": {
   "name": "python",
   "version": "3.6.13",
   "mimetype": "text/x-python",
   "codemirror_mode": {
    "name": "ipython",
    "version": 3
   },
   "pygments_lexer": "ipython3",
   "nbconvert_exporter": "python",
   "file_extension": ".py"
  }
 },
 "nbformat": 4,
 "nbformat_minor": 2
}